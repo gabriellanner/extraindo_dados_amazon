{
 "cells": [
  {
   "cell_type": "code",
   "execution_count": 1,
   "id": "5bbb166e",
   "metadata": {},
   "outputs": [
    {
     "name": "stdout",
     "output_type": "stream",
     "text": [
      "Requirement already satisfied: webdriver-manager in c:\\users\\gabri\\appdata\\local\\programs\\python\\python310\\lib\\site-packages (4.0.2)\n",
      "Requirement already satisfied: requests in c:\\users\\gabri\\appdata\\local\\programs\\python\\python310\\lib\\site-packages (from webdriver-manager) (2.31.0)\n",
      "Requirement already satisfied: python-dotenv in c:\\users\\gabri\\appdata\\local\\programs\\python\\python310\\lib\\site-packages (from webdriver-manager) (1.0.1)\n",
      "Requirement already satisfied: packaging in c:\\users\\gabri\\appdata\\roaming\\python\\python310\\site-packages (from webdriver-manager) (23.0)\n",
      "Requirement already satisfied: charset-normalizer<4,>=2 in c:\\users\\gabri\\appdata\\local\\programs\\python\\python310\\lib\\site-packages (from requests->webdriver-manager) (3.2.0)\n",
      "Requirement already satisfied: idna<4,>=2.5 in c:\\users\\gabri\\appdata\\local\\programs\\python\\python310\\lib\\site-packages (from requests->webdriver-manager) (3.4)\n",
      "Requirement already satisfied: urllib3<3,>=1.21.1 in c:\\users\\gabri\\appdata\\local\\programs\\python\\python310\\lib\\site-packages (from requests->webdriver-manager) (2.0.3)\n",
      "Requirement already satisfied: certifi>=2017.4.17 in c:\\users\\gabri\\appdata\\local\\programs\\python\\python310\\lib\\site-packages (from requests->webdriver-manager) (2023.5.7)\n"
     ]
    },
    {
     "name": "stderr",
     "output_type": "stream",
     "text": [
      "\n",
      "[notice] A new release of pip is available: 23.2.1 -> 24.2\n",
      "[notice] To update, run: python.exe -m pip install --upgrade pip\n"
     ]
    },
    {
     "name": "stdout",
     "output_type": "stream",
     "text": [
      "Requirement already satisfied: ipykernel in c:\\users\\gabri\\appdata\\roaming\\python\\python310\\site-packages (6.22.0)\n",
      "Requirement already satisfied: comm>=0.1.1 in c:\\users\\gabri\\appdata\\roaming\\python\\python310\\site-packages (from ipykernel) (0.1.3)\n",
      "Requirement already satisfied: debugpy>=1.6.5 in c:\\users\\gabri\\appdata\\roaming\\python\\python310\\site-packages (from ipykernel) (1.6.6)\n",
      "Requirement already satisfied: ipython>=7.23.1 in c:\\users\\gabri\\appdata\\roaming\\python\\python310\\site-packages (from ipykernel) (8.11.0)\n",
      "Requirement already satisfied: jupyter-client>=6.1.12 in c:\\users\\gabri\\appdata\\roaming\\python\\python310\\site-packages (from ipykernel) (8.1.0)\n",
      "Requirement already satisfied: jupyter-core!=5.0.*,>=4.12 in c:\\users\\gabri\\appdata\\roaming\\python\\python310\\site-packages (from ipykernel) (5.3.0)\n",
      "Requirement already satisfied: matplotlib-inline>=0.1 in c:\\users\\gabri\\appdata\\roaming\\python\\python310\\site-packages (from ipykernel) (0.1.6)\n",
      "Requirement already satisfied: nest-asyncio in c:\\users\\gabri\\appdata\\roaming\\python\\python310\\site-packages (from ipykernel) (1.5.6)\n",
      "Requirement already satisfied: packaging in c:\\users\\gabri\\appdata\\roaming\\python\\python310\\site-packages (from ipykernel) (23.0)\n",
      "Requirement already satisfied: psutil in c:\\users\\gabri\\appdata\\roaming\\python\\python310\\site-packages (from ipykernel) (5.9.4)\n",
      "Requirement already satisfied: pyzmq>=20 in c:\\users\\gabri\\appdata\\roaming\\python\\python310\\site-packages (from ipykernel) (25.0.2)\n",
      "Requirement already satisfied: tornado>=6.1 in c:\\users\\gabri\\appdata\\roaming\\python\\python310\\site-packages (from ipykernel) (6.2)\n",
      "Requirement already satisfied: traitlets>=5.4.0 in c:\\users\\gabri\\appdata\\roaming\\python\\python310\\site-packages (from ipykernel) (5.9.0)\n",
      "Requirement already satisfied: backcall in c:\\users\\gabri\\appdata\\roaming\\python\\python310\\site-packages (from ipython>=7.23.1->ipykernel) (0.2.0)\n",
      "Requirement already satisfied: decorator in c:\\users\\gabri\\appdata\\roaming\\python\\python310\\site-packages (from ipython>=7.23.1->ipykernel) (5.1.1)\n",
      "Requirement already satisfied: jedi>=0.16 in c:\\users\\gabri\\appdata\\roaming\\python\\python310\\site-packages (from ipython>=7.23.1->ipykernel) (0.18.2)\n",
      "Requirement already satisfied: pickleshare in c:\\users\\gabri\\appdata\\roaming\\python\\python310\\site-packages (from ipython>=7.23.1->ipykernel) (0.7.5)\n",
      "Requirement already satisfied: prompt-toolkit!=3.0.37,<3.1.0,>=3.0.30 in c:\\users\\gabri\\appdata\\roaming\\python\\python310\\site-packages (from ipython>=7.23.1->ipykernel) (3.0.38)\n",
      "Requirement already satisfied: pygments>=2.4.0 in c:\\users\\gabri\\appdata\\roaming\\python\\python310\\site-packages (from ipython>=7.23.1->ipykernel) (2.14.0)\n",
      "Requirement already satisfied: stack-data in c:\\users\\gabri\\appdata\\roaming\\python\\python310\\site-packages (from ipython>=7.23.1->ipykernel) (0.6.2)\n",
      "Requirement already satisfied: colorama in c:\\users\\gabri\\appdata\\roaming\\python\\python310\\site-packages (from ipython>=7.23.1->ipykernel) (0.4.6)\n",
      "Requirement already satisfied: python-dateutil>=2.8.2 in c:\\users\\gabri\\appdata\\roaming\\python\\python310\\site-packages (from jupyter-client>=6.1.12->ipykernel) (2.8.2)\n",
      "Requirement already satisfied: platformdirs>=2.5 in c:\\users\\gabri\\appdata\\local\\programs\\python\\python310\\lib\\site-packages (from jupyter-core!=5.0.*,>=4.12->ipykernel) (3.11.0)\n",
      "Requirement already satisfied: pywin32>=300 in c:\\users\\gabri\\appdata\\roaming\\python\\python310\\site-packages (from jupyter-core!=5.0.*,>=4.12->ipykernel) (306)\n",
      "Requirement already satisfied: parso<0.9.0,>=0.8.0 in c:\\users\\gabri\\appdata\\roaming\\python\\python310\\site-packages (from jedi>=0.16->ipython>=7.23.1->ipykernel) (0.8.3)\n",
      "Requirement already satisfied: wcwidth in c:\\users\\gabri\\appdata\\roaming\\python\\python310\\site-packages (from prompt-toolkit!=3.0.37,<3.1.0,>=3.0.30->ipython>=7.23.1->ipykernel) (0.2.6)\n",
      "Requirement already satisfied: six>=1.5 in c:\\users\\gabri\\appdata\\roaming\\python\\python310\\site-packages (from python-dateutil>=2.8.2->jupyter-client>=6.1.12->ipykernel) (1.16.0)\n",
      "Requirement already satisfied: executing>=1.2.0 in c:\\users\\gabri\\appdata\\roaming\\python\\python310\\site-packages (from stack-data->ipython>=7.23.1->ipykernel) (1.2.0)\n",
      "Requirement already satisfied: asttokens>=2.1.0 in c:\\users\\gabri\\appdata\\roaming\\python\\python310\\site-packages (from stack-data->ipython>=7.23.1->ipykernel) (2.2.1)\n",
      "Requirement already satisfied: pure-eval in c:\\users\\gabri\\appdata\\roaming\\python\\python310\\site-packages (from stack-data->ipython>=7.23.1->ipykernel) (0.2.2)\n"
     ]
    },
    {
     "name": "stderr",
     "output_type": "stream",
     "text": [
      "\n",
      "[notice] A new release of pip is available: 23.2.1 -> 24.2\n",
      "[notice] To update, run: python.exe -m pip install --upgrade pip\n"
     ]
    },
    {
     "name": "stdout",
     "output_type": "stream",
     "text": [
      "Requirement already satisfied: selenium in c:\\users\\gabri\\appdata\\local\\programs\\python\\python310\\lib\\site-packages (4.25.0)\n",
      "Requirement already satisfied: urllib3[socks]<3,>=1.26 in c:\\users\\gabri\\appdata\\local\\programs\\python\\python310\\lib\\site-packages (from selenium) (2.0.3)\n",
      "Requirement already satisfied: trio~=0.17 in c:\\users\\gabri\\appdata\\local\\programs\\python\\python310\\lib\\site-packages (from selenium) (0.25.0)\n",
      "Requirement already satisfied: trio-websocket~=0.9 in c:\\users\\gabri\\appdata\\local\\programs\\python\\python310\\lib\\site-packages (from selenium) (0.11.1)\n",
      "Requirement already satisfied: certifi>=2021.10.8 in c:\\users\\gabri\\appdata\\local\\programs\\python\\python310\\lib\\site-packages (from selenium) (2023.5.7)\n",
      "Requirement already satisfied: typing_extensions~=4.9 in c:\\users\\gabri\\appdata\\local\\programs\\python\\python310\\lib\\site-packages (from selenium) (4.10.0)\n",
      "Requirement already satisfied: websocket-client~=1.8 in c:\\users\\gabri\\appdata\\local\\programs\\python\\python310\\lib\\site-packages (from selenium) (1.8.0)\n",
      "Requirement already satisfied: attrs>=23.2.0 in c:\\users\\gabri\\appdata\\local\\programs\\python\\python310\\lib\\site-packages (from trio~=0.17->selenium) (23.2.0)\n",
      "Requirement already satisfied: sortedcontainers in c:\\users\\gabri\\appdata\\local\\programs\\python\\python310\\lib\\site-packages (from trio~=0.17->selenium) (2.4.0)\n",
      "Requirement already satisfied: idna in c:\\users\\gabri\\appdata\\local\\programs\\python\\python310\\lib\\site-packages (from trio~=0.17->selenium) (3.4)\n",
      "Requirement already satisfied: outcome in c:\\users\\gabri\\appdata\\local\\programs\\python\\python310\\lib\\site-packages (from trio~=0.17->selenium) (1.3.0.post0)\n",
      "Requirement already satisfied: sniffio>=1.3.0 in c:\\users\\gabri\\appdata\\local\\programs\\python\\python310\\lib\\site-packages (from trio~=0.17->selenium) (1.3.1)\n",
      "Requirement already satisfied: cffi>=1.14 in c:\\users\\gabri\\appdata\\local\\programs\\python\\python310\\lib\\site-packages (from trio~=0.17->selenium) (1.16.0)\n",
      "Requirement already satisfied: exceptiongroup in c:\\users\\gabri\\appdata\\local\\programs\\python\\python310\\lib\\site-packages (from trio~=0.17->selenium) (1.2.0)\n",
      "Requirement already satisfied: wsproto>=0.14 in c:\\users\\gabri\\appdata\\local\\programs\\python\\python310\\lib\\site-packages (from trio-websocket~=0.9->selenium) (1.2.0)\n",
      "Requirement already satisfied: pysocks!=1.5.7,<2.0,>=1.5.6 in c:\\users\\gabri\\appdata\\local\\programs\\python\\python310\\lib\\site-packages (from urllib3[socks]<3,>=1.26->selenium) (1.7.1)\n",
      "Requirement already satisfied: pycparser in c:\\users\\gabri\\appdata\\local\\programs\\python\\python310\\lib\\site-packages (from cffi>=1.14->trio~=0.17->selenium) (2.21)\n",
      "Requirement already satisfied: h11<1,>=0.9.0 in c:\\users\\gabri\\appdata\\local\\programs\\python\\python310\\lib\\site-packages (from wsproto>=0.14->trio-websocket~=0.9->selenium) (0.14.0)\n"
     ]
    },
    {
     "name": "stderr",
     "output_type": "stream",
     "text": [
      "\n",
      "[notice] A new release of pip is available: 23.2.1 -> 24.2\n",
      "[notice] To update, run: python.exe -m pip install --upgrade pip\n"
     ]
    }
   ],
   "source": [
    "!pip install webdriver-manager\n",
    "!pip install ipykernel\n",
    "!pip install selenium\n"
   ]
  },
  {
   "cell_type": "code",
   "execution_count": 2,
   "id": "309d165b",
   "metadata": {},
   "outputs": [],
   "source": [
    "from selenium import webdriver\n",
    "from selenium.webdriver.chrome.service import Service\n",
    "from selenium.webdriver.common.by import By\n",
    "from webdriver_manager.chrome import ChromeDriverManager\n",
    "from selenium.webdriver.common.action_chains import ActionChains\n",
    "\n",
    "from time import sleep"
   ]
  },
  {
   "cell_type": "code",
   "execution_count": 3,
   "id": "ae9ba2b4-2a3f-43da-b998-7940714d77b4",
   "metadata": {},
   "outputs": [],
   "source": [
    "service = Service(ChromeDriverManager().install())\n",
    "driver = webdriver.Chrome(service=service)\n",
    "\n",
    "driver.get('https://www.amazon.com.br/')"
   ]
  },
  {
   "cell_type": "code",
   "execution_count": 4,
   "id": "fb9ee9aa",
   "metadata": {},
   "outputs": [],
   "source": [
    "button_burger = driver.find_element(By.ID, 'nav-hamburger-menu')\n",
    "#OUTRA OPÇÂO \n",
    "#  button_burger = driver.find_element(By.XPATH, '//a[@aria-label=\"Abrir Menu\"]')\n",
    "button_burger.click()"
   ]
  },
  {
   "cell_type": "code",
   "execution_count": 5,
   "id": "8d1e7e44",
   "metadata": {},
   "outputs": [],
   "source": [
    "produtos_em_alta = driver.find_element(By.XPATH, \"//a[contains(@href, '/gp/movers-and-shakers/?ref_=nav_em_ms_0_1_1_4')]\")\n",
    "# produtos_em_alta = driver.find_element(By.XPATH, \"//a[@class=\"hmenu-item\" and text()=\"Produtos em alta\"]\")\n",
    "produtos_em_alta.click()"
   ]
  },
  {
   "cell_type": "code",
   "execution_count": 6,
   "id": "366ea2bd",
   "metadata": {},
   "outputs": [],
   "source": [
    "carrosseis = driver.find_elements(By.XPATH,'//div[contains(@id,\"anonCarousel\")]')\n"
   ]
  },
  {
   "cell_type": "code",
   "execution_count": 7,
   "id": "46da4213",
   "metadata": {},
   "outputs": [],
   "source": [
    "i = 0\n",
    "while i < len(carrosseis):\n",
    "    carrossel = carrosseis[i]\n",
    "    action = ActionChains(driver)\n",
    "    action.scroll_to_element(carrossel)\n",
    "    action.perform()\n",
    "    sleep(1)\n",
    "    carrosseis = driver.find_elements(By.XPATH,'//div[contains(@id,\"anonCarousel\")]')\n",
    "    i += 1 \n",
    "\n",
    "\n",
    "\n"
   ]
  },
  {
   "cell_type": "code",
   "execution_count": 8,
   "id": "a8397d71",
   "metadata": {},
   "outputs": [
    {
     "data": {
      "text/plain": [
       "['Casa',\n",
       " 'Móveis',\n",
       " 'Jardim e Piscina',\n",
       " 'Ferramentas e Materiais de Construção',\n",
       " 'Beleza',\n",
       " 'Moda']"
      ]
     },
     "execution_count": 8,
     "metadata": {},
     "output_type": "execute_result"
    }
   ],
   "source": [
    "titulos_categoria = driver.find_elements(By.XPATH, '//div[@class=\"a-column a-span8\"]//H2[@class=\"a-carousel-heading a-inline-block\"]')\n",
    "titulos_categoria = [t.text.replace('Produtos em alta em ','') for t in titulos_categoria]\n",
    "titulos_categoria"
   ]
  },
  {
   "cell_type": "code",
   "execution_count": 11,
   "id": "5dfb91ed",
   "metadata": {},
   "outputs": [
    {
     "name": "stdout",
     "output_type": "stream",
     "text": [
      "========== Casa ========\n",
      "Classificação de vendas: 20 (anterior: 31) Smart Lâmpada Wi-Fi Positivo Casa Inteligente, Iluminação Branca (Quente e Fria) e RGB (Até 16 Milhões de Cores), 9W, 806…\n",
      "Classificação de vendas: 11 (anterior: 17) Cif Cremoso Limpeza Milagrosa Remove 100% Da Sujeira 450 Ml\n",
      "Classificação de vendas: 20 (anterior: 31) Smart Lâmpada Wi-Fi Positivo Casa Inteligente, Iluminação Branca (Quente e Fria) e RGB (Até 16 Milhões de Cores), 9W, 806…\n",
      "Classificação de vendas: 11 (anterior: 17) Cif Cremoso Limpeza Milagrosa Remove 100% Da Sujeira 450 Ml\n",
      "Classificação de vendas: 221 (anterior: 2.047) Mesa De Centro Sala Decorativa Redonda Tripé Pés Palito Lívia- JM3 MÓVEIS (Branco)\n",
      "Classificação de vendas: 229 (anterior: 2.119) Rack Estante Tv 65\" com Leds Berlim Multimóveis Branco\n",
      "Classificação de vendas: 3 (anterior: 26) Kit 2 Puff Banquinho Redondo Decorativo Thor em Linho Pés Madeira Maciça Cor Bege\n",
      "Classificação de vendas: 299 (anterior: 1.526) Kit 2 Banquetas Altas Cozinha Balcão 1747 Carraro Rose\n",
      "Classificação de vendas: 383 (anterior: 1.884) Banco Redondo Natural\n",
      "Classificação de vendas: 282 (anterior: 1.343) Rack Tv Smart Suspenso Home Decor 1 Porta Nicho Organizador Decoração Sala Quarto Compacto 1.20 Puxador Lauren - RPM…\n",
      "Classificação de vendas: 380 (anterior: 1.669) Kit 02 Mesas de Cabeceira Industrial Pé de Aço 1 Gaveta Corrediça Telescópica Com Nicho (Cinza/Pé Preto)\n",
      "Classificação de vendas: 33 (anterior: 142) Escrivaninha/Mesa de Computador com 1 Gaveta e Prateleira Organizadora para Quarto ou Escritório de Estudo (Branco)\n",
      "Classificação de vendas: 63 (anterior: 262) Puff em Linho Redondo Otavio Agarb Decor Cor:Linho Azul\n",
      "Classificação de vendas: 1 (anterior: 4) Cadeira de Escritório Secretária Base Cromada com Rodinha Fortt Lisboa Amarela - CSF02-AM\n",
      "Classificação de vendas: 122 (anterior: 482) Lixeira com Pedal em Aço Inox Acabamento Polido de 3 Litros, Tramontina, Inox\n",
      "Classificação de vendas: 345 (anterior: 1.283) Cama Box Com Baú Viúva + Colchão De Molas Ensacadas - Anjos - Classic 22x188x128cm\n",
      "Classificação de vendas: 288 (anterior: 1.056) Suporte para Notebook de Aluminio Ajustável Dobrável Portatil Metal Resistente Reforçado altura regulavel compativel ate…\n",
      "Classificação de vendas: 332 (anterior: 1.184) Mesa De Cabeceira Mudo Luxo 3 Gavetas (Branco)\n",
      "Classificação de vendas: 278 (anterior: 896) Apoio Ergonômico Para Antebraço, Design Ergonômico - OEX AE 100 - Preto\n",
      "Classificação de vendas: 294 (anterior: 905) Painel Para TV 50 Polegadas Smart Para Sala Quarto Nicho Com Prateleira Berlim (Branco)\n",
      "Classificação de vendas: 192 (anterior: 564) Conjunto Sala de Jantar Havana Madesa Mesa Tampo de Madeira com 4 Cadeiras\n",
      "Classificação de vendas: 361 (anterior: 1.030) Cama Box Baú Queen Bipartido Blindado Suede Cinza Com Pistão A Gás\n",
      "Classificação de vendas: 189 (anterior: 530) Conjunto 2 Puff,Puf Banqueta sala redondo pés em madeira -Luna-Bege/Caramelo Linho\n",
      "Classificação de vendas: 312 (anterior: 873) Mesa Home Office C/prateleiras De Metal E&A - Bronze/Preto\n",
      "Classificação de vendas: 211 (anterior: 1.701) Raquete Mata Mosca e Mosquito Elétrica Recarregável\n",
      "Classificação de vendas: 287 (anterior: 2.307) Cinto Roçadeira Duplo Confortavel Para Stihl, Toyama, Branco e outras\n",
      "Classificação de vendas: 331 (anterior: 2.033) FISCHER CHURRASQUEIRA GÁS RANCH 3 ESPETOS GLP BIVOLT - 18122-19255\n",
      "Classificação de vendas: 314 (anterior: 1.888) Torneiras Esfera Jardim Cadeado C/Bico Uso Geral 1/2 X 3/4\n",
      "Classificação de vendas: 305 (anterior: 1.601) Engate Rápido Karcher com Aqua Stop + Conector para Mangueira 1/2\"\n",
      "Classificação de vendas: 225 (anterior: 1.005) Piscina Infantil de 1000L PVC Para criança mor Estruturada\n",
      "Classificação de vendas: 245 (anterior: 1.081) Raquete Elétrica Recarregável Mata Mosquitos - Bivolt 110/220v, Botão de Segurança, LED Indicador - Prática e Eficiente, Mata…\n",
      "Classificação de vendas: 256 (anterior: 1.115) Lavadora De Alta Pressão 1750psi Eco Wash Wap Profissional 110V\n",
      "Classificação de vendas: 313 (anterior: 1.303) Engate Rápido para Mangueira 1/2\" Karcher\n",
      "Classificação de vendas: 303 (anterior: 1.218) Kit Limpeza Piscina Acessorios Aspirador Produtos Completo 8 Esferas\n",
      "Classificação de vendas: 371 (anterior: 1.387) Caixa de Passagem Tampa Inox - Sodramar\n",
      "Classificação de vendas: 397 (anterior: 1.457) Temporizador Timer Digital Irrigador Agua Jardim Plantação\n",
      "Classificação de vendas: 348 (anterior: 1.167) Acendedor de Carvão Elétrico 650W, 110V, Aço Inoxidável\n",
      "Classificação de vendas: 286 (anterior: 958) Kit 2 Porta Isca Mult Control Up + 4 Placas Ratoeira Adesiva Peg Rat\n",
      "Classificação de vendas: 384 (anterior: 1.245) Suporte Para Mangueira Jardim Quintal Trabalho Lava Rápido\n",
      "Classificação de vendas: 321 (anterior: 1.038) Barrilha Hidro pH+ HidroAll - 2Kg\n",
      "Classificação de vendas: 334 (anterior: 1.071) Kit 2 Cadeiras Espreguiçadeira Catar com Mesa De Centro (Argila)\n",
      "Classificação de vendas: 396 (anterior: 1.236) HTH-fita Teste 25 unidades Tubo\n",
      "Classificação de vendas: 288 (anterior: 811) Churrasqueira de Inox Dobrável - Apto Pesca Camping Praia\n",
      "Classificação de vendas: 377 (anterior: 1.059) Palito Para Espeto, Theoto, 25cmx3,5mm, Pacote 100 Unidades\n",
      "Classificação de vendas: 110 (anterior: 4.631) Haiz Câmera de Segurança Interna PIX-Z Smart Compatível com Alexa Wi-fi Bivolt Branco HZ-K258\n",
      "Classificação de vendas: 316 (anterior: 2.391) Multímetro Digital Profissional Capacímetro Medidor de Tensão MD-180L Portátil Display Iluminado com Beep Sonoro\n",
      "Classificação de vendas: 360 (anterior: 1.233) Scotch, 3M, Feltro Sintético Móveis Pesados, Redondo, Marrom, Pequeno, 18 unidades\n",
      "Classificação de vendas: 356 (anterior: 996) Fechadura Digital FR 220 Preto Intelbras\n",
      "Classificação de vendas: 306 (anterior: 842) Tramontina Caixa de Sobrepor com 3 Tomadas 2P+T 10 A 250 V LizFlex Branca\n",
      "Classificação de vendas: 267 (anterior: 637) Camera Ip Inteligente 1080P Wifi Lampada Panoramica Giratória 360° Yoosee Espiã e Segurança | Alpha Ecom\n",
      "Classificação de vendas: 398 (anterior: 938) Cabide Simples Inox - Kromus QD0401\n",
      "Classificação de vendas: 230 (anterior: 536) Mini Câmera Espiã WiFi 1080p De Segurança Magnética Sem Fio Casa Inteligente Bateria 150mAh De emergencia Suporta Cartão…\n",
      "Classificação de vendas: 302 (anterior: 662) STAM CADEADO SEGR. 25 MM LIFE COLORS - AZUL - ENC.\n",
      "Classificação de vendas: 229 (anterior: 491) Adaptador de Tomadas Bob Esponja Benjamin 10A 20A Plug Pino Grosso\n",
      "Classificação de vendas: 143 (anterior: 299) Câmera Inteligente Interna Compatível com Alexa Wi-Fi Full HD iM3 C com Micro SD 32GB Branco Intelbras\n",
      "Classificação de vendas: 307 (anterior: 616) Trena Laser Digital Medidor de Distância 40m X5\n",
      "Classificação de vendas: 15 (anterior: 30) Smart Plug Wi-Fi 10A/1000W, Positivo Casa Inteligente, Ligue ou Desligue seus Eletrodomésticos Através do Celular, Compatível…\n",
      "Classificação de vendas: 344 (anterior: 685) Papel De Parede Adesivo Ripado Vinil Madeira 10 Metros Lavável 3d Realista Fácil De Aplicar\n",
      "Classificação de vendas: 87 (anterior: 173) Scotch, 3M, Fixa Forte, Fita Dupla Face, Fixação Extrema, 12mm x 2m\n",
      "Classificação de vendas: 37 (anterior: 70) Câmera Segurança 3 Antenas Robo Baba Pet Ip Onvif Wifi Noturna Orbitronic\n",
      "Classificação de vendas: 18 (anterior: 34) Wifi Hd 1080p A8 Câmera de Segurança, Câmera Ip Icsee Prova D'água Infravermelho Externa（Smartcamera-A08）\n",
      "Classificação de vendas: 182 (anterior: 340) Pingoo.Casa, Torneira para Cozinha, Misturador Monocomando, Aço Inox 304, Escovado, Extensível, Iriri, Dourado\n",
      "Classificação de vendas: 85 (anterior: 158) Sika - Impermeabilizante líquido - SikaFill Rápido Branco – Borracha Liquida - Fácil de aplicar - Galão 3,6 kg\n",
      "Classificação de vendas: 382 (anterior: 701) Tramontina Pistola Aplicar Silicone P/tubo\n",
      "Classificação de vendas: 386 (anterior: 2.856) Escova Secadora Alisadora Revlon Root Booster (127)\n",
      "Classificação de vendas: 2 (anterior: 9) Gel de Limpeza Principia 2% Ácido Salicílico + 5% Glicerina com 350g\n",
      "Classificação de vendas: 186 (anterior: 490) Shampoo Herbal Essences Bio:Renew Óleo de Argan - 400ml\n",
      "Classificação de vendas: 250 (anterior: 588) Condicionador Herbal Essences Bio:Renew Alecrim e Ervas - 400ml\n",
      "Classificação de vendas: 267 (anterior: 603) Kit Haskell Cavalo Forte Trio (3 Produtos)\n",
      "Classificação de vendas: 61 (anterior: 135) NIVEA SUN Protetor Solar UV Face Q10 Anti-Idade FPS 60 50ml\n",
      "Classificação de vendas: 1 (anterior: 2) L'Oréal Paris Elseve Óleo Finalizador Óleo Extraordinário, Anti Frizz, Protetor Térmico, 100ml\n",
      "Classificação de vendas: 113 (anterior: 220) Widi Care Creme de Pentear Encaracolando a Juba, Branco, 500ml\n",
      "Classificação de vendas: 396 (anterior: 718) Shampoo Herbal Essences Bio:Renew Alecrim e Ervas - 400ml\n",
      "Classificação de vendas: 344 (anterior: 613) Eudora Base Líquida Niina Secrets Hidra Glow Cor 10 30ml\n",
      "Classificação de vendas: 107 (anterior: 189) Secador 2000w 127v, Taiff, Style 333, Preto, Pequeno\n",
      "Classificação de vendas: 117 (anterior: 204) Sérum Hidratante Principia 2% Ácidos Hialurônicos + B5\n",
      "Classificação de vendas: 35 (anterior: 61) L'Oréal Paris Creme Facial Anti-Idade com Ácido Hialurônico Revitalift Diurno FPS 20, 49g\n",
      "Classificação de vendas: 27 (anterior: 44) Cetaphil Creme Hidratante 453g\n",
      "Classificação de vendas: 181 (anterior: 287) Lattafa Perfume Asad para Eau de Parfum Spray unissex, 100 ml\n",
      "Classificação de vendas: 140 (anterior: 219) Aparador e raspador OneBlade com 3 pentes, à prova d’água, Bivolt - QP2724/10 Philips\n",
      "Classificação de vendas: 130 (anterior: 201) L'Oréal Paris Protetor Solar Facial Antioleosidade FPS60 Solar Expertise Effeito Matte, 40g\n",
      "Classificação de vendas: 151 (anterior: 232) L'Oréal Professionnel Shampoo NutriOil, Para nutrição e brilho, Enriquecido com óleo de coco, com textura leve e para todos os tipos…\n",
      "Classificação de vendas: 115 (anterior: 175) Neutrogena Norwegian Hidratante Corporal Intensivo Sem Fragrância, 400ml\n",
      "Classificação de vendas: 132 (anterior: 200) CeraVe, Creme Hidratante Corporal, com textura Cremosa e Ácido Hialurônico, 454g, embalagem variable\n",
      "Classificação de vendas: 193 (anterior: 988) Kit Com 5 Camisetas Básica Infantil Unissex Manga Curta Slim Hering Kids\n",
      "Classificação de vendas: 127 (anterior: 595) Sacola Bolsa Mala De Viagem Pequena de Bordo Minsque de Poliéster com Pés de Apoio e Alça de Ombro Removível, Azul…\n",
      "Classificação de vendas: 47 (anterior: 205) Top Esportivo Alças Largas Sem Costura Hering Sports\n",
      "Classificação de vendas: 338 (anterior: 1.353) Tênis Perfect 3, Olympikus, Preto/Vermelho, Masculino, 43\n",
      "Classificação de vendas: 186 (anterior: 721) Bermuda Shorts 2 Em 1 Masculino Academia Dryfit Treino\n",
      "Classificação de vendas: 28 (anterior: 91) Kit organizador de mala bagagem viagem necessaire 6 peças (Azul Marinho)\n",
      "Classificação de vendas: 16 (anterior: 51) Frasqueira Necessarie de Viagens Geometric Pequena de mão ABS Rígida Fechamento em Ziper com Organizador Interno, Amarelo,…\n",
      "Classificação de vendas: 356 (anterior: 1.123) Chaveiro C/25 + 25 Etiquetas Cores Sortidas Waleu, Multicor, pacote de 25\n",
      "Classificação de vendas: 213 (anterior: 665) Guarda chuva de Bolso Ultra Compacto e Versátil – Mini Guarda-chuva Dobrável com Proteção UV, Leve e Portátil – Inclui Estojo…\n",
      "Classificação de vendas: 345 (anterior: 1.062) GMTA Mochila Bolsa Masculina Feminina Notebook Executiva Anti Furto Resistente à Água Escolar Faculdade Passeio Trabalho…\n",
      "Classificação de vendas: 72 (anterior: 221) Frasqueira Necessarie de Viagens Geometric Média de mão ABS Rígida Fechamento em Ziper com Organizador Interno, Azul Claro,…\n",
      "Classificação de vendas: 38 (anterior: 114) Calça Legging Esportiva Feminina Sem Costura Hering Sports\n",
      "Classificação de vendas: 1 (anterior: 3) Kit de Meias Kit Com 3 Pares De Meia Unissex Invisível Heringadulto-unissex\n",
      "Classificação de vendas: 384 (anterior: 1.145) Guarda Chuva Portaria Automático Preto Tecido Duplo Grande Reforçado com Hastes de Fibra de Vidro\n",
      "Classificação de vendas: 68 (anterior: 197) Balança Digital Com Gancho para Bagagem, Pesca e Malas Até 50 Kg\n",
      "Classificação de vendas: 270 (anterior: 693) Legging 4 Estações Suplex Básica Fitness Academia\n",
      "Classificação de vendas: 344 (anterior: 874) Tênis Mizuno Masculino Cool Ride\n",
      "Classificação de vendas: 377 (anterior: 955) Tênis Branco Feminino Casual Confortável com Recortes Colorido Original Lóris Shoes 7802\n",
      "Classificação de vendas: 283 (anterior: 697) Kit 12 Pares Meia Feminina Soquete Cano Curto Tamanho 36 ao 40\n",
      "Classificação de vendas: 269 (anterior: 662) Kit organizador de mala 6 peças para viagem bagagem (Azul Marinho)\n"
     ]
    },
    {
     "ename": "IndexError",
     "evalue": "list index out of range",
     "output_type": "error",
     "traceback": [
      "\u001b[1;31m---------------------------------------------------------------------------\u001b[0m",
      "\u001b[1;31mIndexError\u001b[0m                                Traceback (most recent call last)",
      "Cell \u001b[1;32mIn[11], line 22\u001b[0m\n\u001b[0;32m     19\u001b[0m setsize \u001b[38;5;241m=\u001b[39m cards[\u001b[38;5;241m-\u001b[39m\u001b[38;5;241m1\u001b[39m]\u001b[38;5;241m.\u001b[39mget_attribute(\u001b[38;5;124m'\u001b[39m\u001b[38;5;124maria-setsize\u001b[39m\u001b[38;5;124m'\u001b[39m)\n\u001b[0;32m     21\u001b[0m \u001b[38;5;28;01mif\u001b[39;00m posinset \u001b[38;5;241m==\u001b[39m setsize:\n\u001b[1;32m---> 22\u001b[0m     carrossel \u001b[38;5;241m=\u001b[39m \u001b[43mcarrosseis\u001b[49m\u001b[43m[\u001b[49m\u001b[43mi\u001b[49m\u001b[43m]\u001b[49m\n\u001b[0;32m     23\u001b[0m     action \u001b[38;5;241m=\u001b[39m ActionChains(driver)\n\u001b[0;32m     24\u001b[0m     action\u001b[38;5;241m.\u001b[39mmove_to_element(carrossel)\u001b[38;5;241m.\u001b[39mperform()\n",
      "\u001b[1;31mIndexError\u001b[0m: list index out of range"
     ]
    }
   ],
   "source": [
    "carrosseis = driver.find_elements(By.XPATH,'//div[contains(@id,\"anonCarousel\")]')\n",
    "carrossel = carrosseis[0]\n",
    "for i in range(len(carrosseis)):\n",
    "    print('==========', titulos_categoria[i],'========')\n",
    "    carrossel = carrosseis[i]\n",
    "    while True:\n",
    "        xpath = './/li[@class=\"a-carousel-card\"]'\n",
    "        cards = carrossel.find_elements(By.XPATH,xpath)\n",
    "\n",
    "\n",
    "        for card in cards:\n",
    "            sales_mov = card.find_element(By.XPATH,'.//span[contains(@class,\"sales-movement\")]')    \n",
    "            nome_prod = card.find_element(By.XPATH,'.//a[@class=\"a-link-normal\"]/span/div').text    \n",
    "            print(sales_mov.text, nome_prod)\n",
    "\n",
    "\n",
    "\n",
    "        posinset = cards[-1].get_attribute('aria-posinset')\n",
    "        setsize = cards[-1].get_attribute('aria-setsize')\n",
    "\n",
    "        if posinset == setsize:\n",
    "            carrossel = carrosseis[i]\n",
    "            action = ActionChains(driver)\n",
    "            action.move_to_element(carrossel).perform()\n",
    "            sleep(1)\n",
    "            carrosseis = driver.find_elements(By.XPATH,'//div[contains(@id,\"anonCarousel\")]')\n",
    "            i += 1 \n",
    "        else:\n",
    "            # o ponto serve para pegar o elemente apartir de um elemente especifico tens que por o '.'\n",
    "            xpath = './../..//a[@class=\"a-button a-button-image a-carousel-button a-carousel-goto-nextpage\"]'\n",
    "            next_button= carrossel.find_element(By.XPATH,xpath)\n",
    "            next_button.click()\n",
    "            sleep(1)\n",
    "            carrosseis = driver.find_elements(By.XPATH,'//div[contains(@id,\"anonCarousel\")]')"
   ]
  },
  {
   "cell_type": "markdown",
   "id": "409dd19b",
   "metadata": {},
   "source": [
    "### Loop para pegar todos os cards do carrossel"
   ]
  }
 ],
 "metadata": {
  "kernelspec": {
   "display_name": "Python 3",
   "language": "python",
   "name": "python3"
  },
  "language_info": {
   "codemirror_mode": {
    "name": "ipython",
    "version": 3
   },
   "file_extension": ".py",
   "mimetype": "text/x-python",
   "name": "python",
   "nbconvert_exporter": "python",
   "pygments_lexer": "ipython3",
   "version": "3.10.7"
  }
 },
 "nbformat": 4,
 "nbformat_minor": 5
}
